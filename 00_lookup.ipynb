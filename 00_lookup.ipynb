{
 "cells": [
  {
   "cell_type": "code",
   "execution_count": 1,
   "metadata": {
    "hide_input": false
   },
   "outputs": [],
   "source": [
    "#hide\n",
    "#default_exp lookup"
   ]
  },
  {
   "cell_type": "code",
   "execution_count": 2,
   "metadata": {},
   "outputs": [],
   "source": [
    "#export\n",
    "from fastcore.utils import *\n",
    "from fastcore.foundation import *\n",
    "import pkg_resources,importlib"
   ]
  },
  {
   "cell_type": "code",
   "execution_count": 3,
   "metadata": {},
   "outputs": [],
   "source": [
    "from fastcore.all import *\n",
    "from IPython.display import Markdown"
   ]
  },
  {
   "cell_type": "markdown",
   "metadata": {},
   "source": [
    "# Doc lookup\n",
    "\n",
    "> Convert backticks to links"
   ]
  },
  {
   "cell_type": "markdown",
   "metadata": {},
   "source": [
    "## Entry points"
   ]
  },
  {
   "cell_type": "markdown",
   "metadata": {},
   "source": [
    "Python [entry points](https://amir.rachum.com/blog/2017/07/28/python-entry-points/) are a way to register information that is available across all python projects in an environment. They are registered using a key in `setuptools` scripts. They provide a simple key-value store. `nbdev` uses an entry point group to make available an index of symbols for each nbdev project, as well as some Sphinx projects that have been converted, including the Python standard library. You can see all registered projects:"
   ]
  },
  {
   "cell_type": "code",
   "execution_count": 4,
   "metadata": {},
   "outputs": [
    {
     "data": {
      "text/plain": [
       "(#7) [EntryPoint.parse('index = showdoc._nbdev'),EntryPoint.parse('index = nbdev_stdlib._nbdev'),EntryPoint.parse('index = nbdev_scipy._nbdev'),EntryPoint.parse('index = nbdev_pytorch._nbdev'),EntryPoint.parse('index = nbdev_pandas._nbdev'),EntryPoint.parse('index = nbdev_numpy._nbdev'),EntryPoint.parse('index = nbdev._nbdev')]"
      ]
     },
     "execution_count": 4,
     "metadata": {},
     "output_type": "execute_result"
    }
   ],
   "source": [
    "projs = L(pkg_resources.iter_entry_points(group='nbdev'))\n",
    "projs"
   ]
  },
  {
   "cell_type": "markdown",
   "metadata": {},
   "source": [
    "An nbdev entry point can be loaded, an will return an `_nbdev` module.\n",
    "\n",
    "`nbdev_idxs` is a mapping from module names to loaded nbdev entry points."
   ]
  },
  {
   "cell_type": "code",
   "execution_count": 5,
   "metadata": {},
   "outputs": [],
   "source": [
    "#export\n",
    "def _try_load(o):\n",
    "    try: return o.dist.key,o.load()\n",
    "    except ImportError: None\n",
    "\n",
    "nbdev_idxs = dict(L(pkg_resources.iter_entry_points(group='nbdev')).map_filter(_try_load))"
   ]
  },
  {
   "cell_type": "code",
   "execution_count": 6,
   "metadata": {},
   "outputs": [],
   "source": [
    "nbmod = nbdev_idxs['nbdev']"
   ]
  },
  {
   "cell_type": "markdown",
   "metadata": {},
   "source": [
    "This module contains `modidx`, which includes the symbols built in this module:"
   ]
  },
  {
   "cell_type": "code",
   "execution_count": 7,
   "metadata": {
    "scrolled": true
   },
   "outputs": [
    {
     "data": {
      "text/plain": [
       "{'nbdev.sync.nbdev_update_lib': 'https://nbdev.fast.ai/nbdev.sync#nbdev_update_lib'}"
      ]
     },
     "execution_count": 7,
     "metadata": {},
     "output_type": "execute_result"
    }
   ],
   "source": [
    "nbmod.modidx['syms']['nbdev.sync']"
   ]
  },
  {
   "cell_type": "markdown",
   "metadata": {},
   "source": [
    "It also contains a copy of the information from the `settings.ini` file:"
   ]
  },
  {
   "cell_type": "code",
   "execution_count": 8,
   "metadata": {
    "scrolled": true
   },
   "outputs": [
    {
     "data": {
      "text/plain": [
       "'2.0.0'"
      ]
     },
     "execution_count": 8,
     "metadata": {},
     "output_type": "execute_result"
    }
   ],
   "source": [
    "nbmod.modidx['settings']['version']"
   ]
  },
  {
   "cell_type": "code",
   "execution_count": 9,
   "metadata": {},
   "outputs": [],
   "source": [
    "#export\n",
    "nbdev_idx_mods = {mod:ep.modidx for lib,ep in nbdev_idxs.items() for mod in ep.modidx['syms']}"
   ]
  },
  {
   "cell_type": "markdown",
   "metadata": {},
   "source": [
    "`nbdev_idx_mods` is a mapping from module names to the `modidx` for the package that each module is defined in."
   ]
  },
  {
   "cell_type": "code",
   "execution_count": 10,
   "metadata": {},
   "outputs": [
    {
     "data": {
      "text/plain": [
       "['syms', 'settings']"
      ]
     },
     "execution_count": 10,
     "metadata": {},
     "output_type": "execute_result"
    }
   ],
   "source": [
    "list(nbdev_idx_mods['nbdev.sync'])"
   ]
  },
  {
   "cell_type": "markdown",
   "metadata": {},
   "source": [
    "## ShowdocLookup -"
   ]
  },
  {
   "cell_type": "code",
   "execution_count": 11,
   "metadata": {},
   "outputs": [],
   "source": [
    "#export\n",
    "class ShowdocLookup:\n",
    "    \"Mapping from symbol names to URLs with docs\"\n",
    "    def __init__(self, strip_libs=None, incl_libs=None, skip_mods=None):\n",
    "        skip_mods,strip_libs = setify(skip_mods),L(strip_libs)\n",
    "        if incl_libs is not None: incl_libs = (L(incl_libs)+strip_libs).unique()\n",
    "        self.entries = filter_keys(nbdev_idxs, lambda k: incl_libs is None or k in incl_libs)\n",
    "        py_syms = merge(*L(o.modidx['syms'].values() for o in self.entries.values()).concat())\n",
    "        for m in strip_libs:\n",
    "            _d = self.entries[m].modidx\n",
    "            stripped = {remove_prefix(k,f\"{mod}.\"):v\n",
    "                        for mod,dets in _d['syms'].items() if mod not in skip_mods\n",
    "                        for k,v in dets.items()}\n",
    "            py_syms = merge(stripped, py_syms)\n",
    "        self.syms = py_syms\n",
    "\n",
    "    def __getitem__(self, s): return self.syms.get(s, None)"
   ]
  },
  {
   "cell_type": "markdown",
   "metadata": {},
   "source": [
    "Symbol names are taken from libraries registered using the 'nbdev' entry point. By default, all libraries with this entry point are searched, but full symbol names (including module prefix) are required."
   ]
  },
  {
   "cell_type": "code",
   "execution_count": 12,
   "metadata": {},
   "outputs": [],
   "source": [
    "c = ShowdocLookup()\n",
    "assert c['nbdev.doclinks.DocLinks'].startswith('http')\n",
    "assert c['numpy.array'].startswith('http')\n",
    "assert not c['DocLinks']"
   ]
  },
  {
   "cell_type": "markdown",
   "metadata": {},
   "source": [
    "Pass `strip_libs` to list libraries which should be available without requiring a module prefix."
   ]
  },
  {
   "cell_type": "code",
   "execution_count": 13,
   "metadata": {},
   "outputs": [],
   "source": [
    "c = ShowdocLookup(strip_libs=['nbdev','nbdev-numpy'])\n",
    "assert c['DocLinks'].startswith('http')\n",
    "assert c['numpy.array'].startswith('http')\n",
    "assert c['array'].startswith('http')"
   ]
  },
  {
   "cell_type": "code",
   "execution_count": 14,
   "metadata": {},
   "outputs": [],
   "source": [
    "#export\n",
    "from nbdev._nbdev import modidx"
   ]
  },
  {
   "cell_type": "code",
   "execution_count": 15,
   "metadata": {},
   "outputs": [],
   "source": [
    "#export\n",
    "_showdoc_lookup = None\n",
    "\n",
    "def _settings(fr, mod=None):\n",
    "    if mod is None: mod = fr.f_globals['__name__']\n",
    "    return nested_idx(nbdev_idx_mods, mod, 'settings') or {}\n",
    "\n",
    "def init_showdoc(settings=None, mod=None):\n",
    "    \"Create an `ShowdocLookup` using values from settings\"\n",
    "    if settings is None: settings = _settings(sys._getframe(1), mod)\n",
    "    strip_libs  = settings.get('strip_libs',settings.get('lib_name','')).split()\n",
    "    incl_libs  = settings.get('index_libs',None)\n",
    "    if incl_libs is not None: incl_libs = incl_libs.split()\n",
    "    global _showdoc_lookup\n",
    "    _showdoc_lookup = ShowdocLookup(strip_libs=strip_libs, incl_libs=incl_libs)"
   ]
  },
  {
   "cell_type": "code",
   "execution_count": 16,
   "metadata": {},
   "outputs": [],
   "source": [
    "#export\n",
    "def showdoc_lookup():\n",
    "    \"`ShowdocLookup` singleton using settings from calling frame\"\n",
    "    if not _showdoc_lookup: init_showdoc(_settings(sys._getframe(1)))\n",
    "    return _showdoc_lookup"
   ]
  },
  {
   "cell_type": "markdown",
   "metadata": {},
   "source": [
    "`strip_libs` is taken from settings if present, otherwise `lib_name` is used. `incl_libs` is taken from settings if present, otherwise all registered entry points are used."
   ]
  },
  {
   "cell_type": "code",
   "execution_count": 17,
   "metadata": {},
   "outputs": [],
   "source": [
    "__name__ = 'nbdev.export'\n",
    "init_showdoc()\n",
    "\n",
    "assert showdoc_lookup()['nbdev.doclinks.DocLinks'].startswith('http')\n",
    "assert showdoc_lookup()['DocLinks'].startswith('http')\n",
    "assert showdoc_lookup()['numpy.array'].startswith('http')\n",
    "assert not showdoc_lookup()['array']"
   ]
  },
  {
   "cell_type": "markdown",
   "metadata": {
    "heading_collapsed": true
   },
   "source": [
    "## Backticks"
   ]
  },
  {
   "cell_type": "code",
   "execution_count": 18,
   "metadata": {
    "hidden": true
   },
   "outputs": [],
   "source": [
    "#export\n",
    "@patch\n",
    "def _link_sym(self:ShowdocLookup, skipped, m):\n",
    "    l = m.group(1)\n",
    "    if l in skipped: return m.group(0)\n",
    "    s = self[l]\n",
    "    if s is None: return m.group(0)\n",
    "    return rf\"[{m.group(0)}]({s})\"\n",
    "\n",
    "_re_backticks = re.compile(r'`([^`\\s]+)`')\n",
    "@patch\n",
    "def _link_line(self:ShowdocLookup, l, skipped):\n",
    "    return _re_backticks.sub(partial(self._link_sym, skipped), l)\n",
    "\n",
    "@patch\n",
    "def linkify(self:ShowdocLookup, md, skipped=None):\n",
    "    \"Convert backtick code in `md` to doc links, except for symbols in `skipped`\"\n",
    "    in_fence=False\n",
    "    lines = md.splitlines()\n",
    "    for i,l in enumerate(lines):\n",
    "        if l.startswith(\"```\"): in_fence=not in_fence\n",
    "        elif not l.startswith('    ') and not in_fence: lines[i] = self._link_line(l, L(skipped))\n",
    "    return '\\n'.join(lines)"
   ]
  },
  {
   "cell_type": "code",
   "execution_count": 19,
   "metadata": {
    "hidden": true
   },
   "outputs": [],
   "source": [
    "md = \"\"\"This is a link to `numpy.array` and to `read_nb` but not a link to `foobar`.\n",
    "And not a link to <code>dict2nb</code>.\n",
    "\n",
    "    This is not a link to `read_nb`\n",
    "\n",
    "```\n",
    "This isn't a link to `read_nb` either\n",
    "```\"\"\""
   ]
  },
  {
   "cell_type": "code",
   "execution_count": 20,
   "metadata": {
    "hidden": true
   },
   "outputs": [
    {
     "data": {
      "text/markdown": [
       "This is a link to [`numpy.array`](https://numpy.org/doc/stable/reference/generated/numpy.array.html#numpy.array) and to [`read_nb`](https://nbdev.fast.ai/nbdev.read#read_nb) but not a link to `foobar`.\n",
       "And not a link to <code>dict2nb</code>.\n",
       "\n",
       "    This is not a link to `read_nb`\n",
       "\n",
       "```\n",
       "This isn't a link to `read_nb` either\n",
       "```"
      ],
      "text/plain": [
       "<IPython.core.display.Markdown object>"
      ]
     },
     "execution_count": 20,
     "metadata": {},
     "output_type": "execute_result"
    }
   ],
   "source": [
    "c = ShowdocLookup('nbdev')\n",
    "Markdown(c.linkify(md))"
   ]
  },
  {
   "cell_type": "markdown",
   "metadata": {},
   "source": [
    "## Export -"
   ]
  },
  {
   "cell_type": "code",
   "execution_count": 21,
   "metadata": {},
   "outputs": [],
   "source": [
    "from nbdev.doclinks import nbdev_build_lib\n",
    "nbdev_build_lib()"
   ]
  },
  {
   "cell_type": "code",
   "execution_count": null,
   "metadata": {},
   "outputs": [],
   "source": []
  }
 ],
 "metadata": {
  "jupytext": {
   "split_at_heading": true
  },
  "kernelspec": {
   "display_name": "Python 3",
   "language": "python",
   "name": "python3"
  },
  "language_info": {
   "codemirror_mode": {
    "name": "ipython",
    "version": 3
   },
   "file_extension": ".py",
   "mimetype": "text/x-python",
   "name": "python",
   "nbconvert_exporter": "python",
   "pygments_lexer": "ipython3",
   "version": "3.8.3"
  },
  "toc": {
   "base_numbering": 1,
   "nav_menu": {},
   "number_sections": false,
   "sideBar": true,
   "skip_h1_title": false,
   "title_cell": "Table of Contents",
   "title_sidebar": "Contents",
   "toc_cell": false,
   "toc_position": {},
   "toc_section_display": true,
   "toc_window_display": false
  }
 },
 "nbformat": 4,
 "nbformat_minor": 2
}
